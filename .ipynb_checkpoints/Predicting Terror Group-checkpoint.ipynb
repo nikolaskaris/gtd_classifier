{
 "cells": [
  {
   "cell_type": "markdown",
   "metadata": {},
   "source": [
    "# Fellowship.ai Challenge #\n",
    "### Predicting Terror ###\n",
    "\n",
    "Global Terrorism Database (GTD) is an open-source database including information on terrorist events around the world from 1970 through 2014. Some portion of the attacks have not been attributed to a particular terrorist group.\n",
    "\n",
    "Use attack type, weapons used, description of the attack, etc. to build a model that can predict what group may have been responsible for an incident. \n",
    "\n",
    "This analysis is part of my application for the Fellowship.AI Fellowship program in New York City."
   ]
  },
  {
   "cell_type": "markdown",
   "metadata": {},
   "source": [
    "## 1. Dependencies ##"
   ]
  },
  {
   "cell_type": "markdown",
   "metadata": {},
   "source": [
    "To be begin we will load libraries, packages, and dependencies."
   ]
  },
  {
   "cell_type": "code",
   "execution_count": 26,
   "metadata": {
    "collapsed": true
   },
   "outputs": [],
   "source": [
    "# Dependencies\n",
    "import numpy as np \n",
    "import pandas as pd\n",
    "\n",
    "# Visualizations\n",
    "import matplotlib.pyplot as plt\n",
    "import seaborn as sns\n",
    "%matplotlib inline\n",
    "plt.style.use('seaborn-whitegrid')\n",
    "\n",
    "# Time\n",
    "from datetime import datetime, timedelta\n",
    "import calendar\n",
    "from time import time\n",
    "\n",
    "# Garbage Collection\n",
    "import gc\n",
    "\n",
    "# Helper functions\n",
    "from visuals import evaluate"
   ]
  },
  {
   "cell_type": "markdown",
   "metadata": {},
   "source": [
    "## 2. Upload Data and Data Exploration ##"
   ]
  },
  {
   "cell_type": "code",
   "execution_count": 54,
   "metadata": {},
   "outputs": [
    {
     "name": "stderr",
     "output_type": "stream",
     "text": [
      "/usr/local/Cellar/ipython/7.1.1/libexec/lib/python3.7/site-packages/IPython/core/interactiveshell.py:3020: DtypeWarning: Columns (5,7,32,34,62,63,64,77,80,91,93,95,97,115,116,122) have mixed types. Specify dtype option on import or set low_memory=False.\n",
      "  interactivity=interactivity, compiler=compiler, result=result)\n"
     ]
    }
   ],
   "source": [
    "# Upload dataframe. Data source: https://www.start.umd.edu/gtd/\n",
    "# For a detailed description of the featurespace of the dataset, see: https://www.start.umd.edu/gtd/downloads/Codebook.pdf\n",
    "df = pd.read_csv(\"terrorism.csv\", encoding='ISO-8859-1')"
   ]
  },
  {
   "cell_type": "code",
   "execution_count": 55,
   "metadata": {},
   "outputs": [
    {
     "data": {
      "text/plain": [
       "(181691, 136)"
      ]
     },
     "execution_count": 55,
     "metadata": {},
     "output_type": "execute_result"
    }
   ],
   "source": [
    "df.shape"
   ]
  },
  {
   "cell_type": "markdown",
   "metadata": {},
   "source": [
    "We must first explore the featurespace, eliminate / fill missing data, engineer new features if necessary, and scale features that may need to be scaled."
   ]
  },
  {
   "cell_type": "code",
   "execution_count": 56,
   "metadata": {},
   "outputs": [
    {
     "data": {
      "text/html": [
       "<div>\n",
       "<style scoped>\n",
       "    .dataframe tbody tr th:only-of-type {\n",
       "        vertical-align: middle;\n",
       "    }\n",
       "\n",
       "    .dataframe tbody tr th {\n",
       "        vertical-align: top;\n",
       "    }\n",
       "\n",
       "    .dataframe thead th {\n",
       "        text-align: right;\n",
       "    }\n",
       "</style>\n",
       "<table border=\"1\" class=\"dataframe\">\n",
       "  <thead>\n",
       "    <tr style=\"text-align: right;\">\n",
       "      <th></th>\n",
       "      <th>Unnamed: 0</th>\n",
       "      <th>eventid</th>\n",
       "      <th>iyear</th>\n",
       "      <th>imonth</th>\n",
       "      <th>iday</th>\n",
       "      <th>approxdate</th>\n",
       "      <th>extended</th>\n",
       "      <th>resolution</th>\n",
       "      <th>country</th>\n",
       "      <th>country_txt</th>\n",
       "      <th>...</th>\n",
       "      <th>addnotes</th>\n",
       "      <th>scite1</th>\n",
       "      <th>scite2</th>\n",
       "      <th>scite3</th>\n",
       "      <th>dbsource</th>\n",
       "      <th>INT_LOG</th>\n",
       "      <th>INT_IDEO</th>\n",
       "      <th>INT_MISC</th>\n",
       "      <th>INT_ANY</th>\n",
       "      <th>related</th>\n",
       "    </tr>\n",
       "  </thead>\n",
       "  <tbody>\n",
       "    <tr>\n",
       "      <th>0</th>\n",
       "      <td>0</td>\n",
       "      <td>197000000001</td>\n",
       "      <td>1970</td>\n",
       "      <td>7</td>\n",
       "      <td>2</td>\n",
       "      <td>NaN</td>\n",
       "      <td>0</td>\n",
       "      <td>NaN</td>\n",
       "      <td>58</td>\n",
       "      <td>Dominican Republic</td>\n",
       "      <td>...</td>\n",
       "      <td>NaN</td>\n",
       "      <td>NaN</td>\n",
       "      <td>NaN</td>\n",
       "      <td>NaN</td>\n",
       "      <td>PGIS</td>\n",
       "      <td>0</td>\n",
       "      <td>0</td>\n",
       "      <td>0</td>\n",
       "      <td>0</td>\n",
       "      <td>NaN</td>\n",
       "    </tr>\n",
       "    <tr>\n",
       "      <th>1</th>\n",
       "      <td>1</td>\n",
       "      <td>197000000002</td>\n",
       "      <td>1970</td>\n",
       "      <td>0</td>\n",
       "      <td>0</td>\n",
       "      <td>NaN</td>\n",
       "      <td>0</td>\n",
       "      <td>NaN</td>\n",
       "      <td>130</td>\n",
       "      <td>Mexico</td>\n",
       "      <td>...</td>\n",
       "      <td>NaN</td>\n",
       "      <td>NaN</td>\n",
       "      <td>NaN</td>\n",
       "      <td>NaN</td>\n",
       "      <td>PGIS</td>\n",
       "      <td>0</td>\n",
       "      <td>1</td>\n",
       "      <td>1</td>\n",
       "      <td>1</td>\n",
       "      <td>NaN</td>\n",
       "    </tr>\n",
       "    <tr>\n",
       "      <th>2</th>\n",
       "      <td>2</td>\n",
       "      <td>197001000001</td>\n",
       "      <td>1970</td>\n",
       "      <td>1</td>\n",
       "      <td>0</td>\n",
       "      <td>NaN</td>\n",
       "      <td>0</td>\n",
       "      <td>NaN</td>\n",
       "      <td>160</td>\n",
       "      <td>Philippines</td>\n",
       "      <td>...</td>\n",
       "      <td>NaN</td>\n",
       "      <td>NaN</td>\n",
       "      <td>NaN</td>\n",
       "      <td>NaN</td>\n",
       "      <td>PGIS</td>\n",
       "      <td>-9</td>\n",
       "      <td>-9</td>\n",
       "      <td>1</td>\n",
       "      <td>1</td>\n",
       "      <td>NaN</td>\n",
       "    </tr>\n",
       "    <tr>\n",
       "      <th>3</th>\n",
       "      <td>3</td>\n",
       "      <td>197001000002</td>\n",
       "      <td>1970</td>\n",
       "      <td>1</td>\n",
       "      <td>0</td>\n",
       "      <td>NaN</td>\n",
       "      <td>0</td>\n",
       "      <td>NaN</td>\n",
       "      <td>78</td>\n",
       "      <td>Greece</td>\n",
       "      <td>...</td>\n",
       "      <td>NaN</td>\n",
       "      <td>NaN</td>\n",
       "      <td>NaN</td>\n",
       "      <td>NaN</td>\n",
       "      <td>PGIS</td>\n",
       "      <td>-9</td>\n",
       "      <td>-9</td>\n",
       "      <td>1</td>\n",
       "      <td>1</td>\n",
       "      <td>NaN</td>\n",
       "    </tr>\n",
       "    <tr>\n",
       "      <th>4</th>\n",
       "      <td>4</td>\n",
       "      <td>197001000003</td>\n",
       "      <td>1970</td>\n",
       "      <td>1</td>\n",
       "      <td>0</td>\n",
       "      <td>NaN</td>\n",
       "      <td>0</td>\n",
       "      <td>NaN</td>\n",
       "      <td>101</td>\n",
       "      <td>Japan</td>\n",
       "      <td>...</td>\n",
       "      <td>NaN</td>\n",
       "      <td>NaN</td>\n",
       "      <td>NaN</td>\n",
       "      <td>NaN</td>\n",
       "      <td>PGIS</td>\n",
       "      <td>-9</td>\n",
       "      <td>-9</td>\n",
       "      <td>1</td>\n",
       "      <td>1</td>\n",
       "      <td>NaN</td>\n",
       "    </tr>\n",
       "  </tbody>\n",
       "</table>\n",
       "<p>5 rows × 136 columns</p>\n",
       "</div>"
      ],
      "text/plain": [
       "   Unnamed: 0       eventid  iyear  imonth  iday approxdate  extended  \\\n",
       "0           0  197000000001   1970       7     2        NaN         0   \n",
       "1           1  197000000002   1970       0     0        NaN         0   \n",
       "2           2  197001000001   1970       1     0        NaN         0   \n",
       "3           3  197001000002   1970       1     0        NaN         0   \n",
       "4           4  197001000003   1970       1     0        NaN         0   \n",
       "\n",
       "  resolution  country         country_txt   ...    addnotes scite1 scite2  \\\n",
       "0        NaN       58  Dominican Republic   ...         NaN    NaN    NaN   \n",
       "1        NaN      130              Mexico   ...         NaN    NaN    NaN   \n",
       "2        NaN      160         Philippines   ...         NaN    NaN    NaN   \n",
       "3        NaN       78              Greece   ...         NaN    NaN    NaN   \n",
       "4        NaN      101               Japan   ...         NaN    NaN    NaN   \n",
       "\n",
       "  scite3  dbsource  INT_LOG  INT_IDEO  INT_MISC INT_ANY related  \n",
       "0    NaN      PGIS        0         0         0       0     NaN  \n",
       "1    NaN      PGIS        0         1         1       1     NaN  \n",
       "2    NaN      PGIS       -9        -9         1       1     NaN  \n",
       "3    NaN      PGIS       -9        -9         1       1     NaN  \n",
       "4    NaN      PGIS       -9        -9         1       1     NaN  \n",
       "\n",
       "[5 rows x 136 columns]"
      ]
     },
     "execution_count": 56,
     "metadata": {},
     "output_type": "execute_result"
    }
   ],
   "source": [
    "df.head(5)"
   ]
  },
  {
   "cell_type": "markdown",
   "metadata": {},
   "source": [
    "We are looking to predict the ```gname``` feature — to which group an attack belongs. How many unique groups do we need to design a classifier for?"
   ]
  },
  {
   "cell_type": "code",
   "execution_count": 57,
   "metadata": {},
   "outputs": [
    {
     "data": {
      "text/plain": [
       "3537"
      ]
     },
     "execution_count": 57,
     "metadata": {},
     "output_type": "execute_result"
    }
   ],
   "source": [
    "len(df.gname.unique())"
   ]
  },
  {
   "cell_type": "markdown",
   "metadata": {},
   "source": [
    "3537 categories. Given the size of the data, this may be challenging to accurately predict attacks from 3k+ groups given less than 200k samples. \n",
    "\n",
    "Let's examine how many missing values there are in the data (given the fairly large feature space)."
   ]
  },
  {
   "cell_type": "code",
   "execution_count": 58,
   "metadata": {},
   "outputs": [
    {
     "name": "stdout",
     "output_type": "stream",
     "text": [
      "Unnamed: 0                 0\n",
      "eventid                    0\n",
      "iyear                      0\n",
      "imonth                     0\n",
      "iday                       0\n",
      "approxdate            172452\n",
      "extended                   0\n",
      "resolution            179471\n",
      "country                    0\n",
      "country_txt                0\n",
      "region                     0\n",
      "region_txt                 0\n",
      "provstate                421\n",
      "city                     434\n",
      "latitude                4556\n",
      "longitude               4557\n",
      "specificity                6\n",
      "vicinity                   0\n",
      "location              126196\n",
      "summary                66129\n",
      "crit1                      0\n",
      "crit2                      0\n",
      "crit3                      0\n",
      "doubtterr                  1\n",
      "alternative           152680\n",
      "alternative_txt       152680\n",
      "multiple                   1\n",
      "success                    0\n",
      "suicide                    0\n",
      "attacktype1                0\n",
      "                       ...  \n",
      "propextent            117626\n",
      "propextent_txt        117626\n",
      "propvalue             142702\n",
      "propcomment           123732\n",
      "ishostkid                178\n",
      "nhostkid              168119\n",
      "nhostkidus            168174\n",
      "nhours                177628\n",
      "ndays                 173567\n",
      "divert                181367\n",
      "kidhijcountry         178386\n",
      "ransom                104310\n",
      "ransomamt             180341\n",
      "ransomamtus           181128\n",
      "ransompaid            180917\n",
      "ransompaidus          181139\n",
      "ransomnote            181177\n",
      "hostkidoutcome        170700\n",
      "hostkidoutcome_txt    170700\n",
      "nreleased             171291\n",
      "addnotes              153402\n",
      "scite1                 66191\n",
      "scite2                104758\n",
      "scite3                138175\n",
      "dbsource                   0\n",
      "INT_LOG                    0\n",
      "INT_IDEO                   0\n",
      "INT_MISC                   0\n",
      "INT_ANY                    0\n",
      "related               156653\n",
      "Length: 136, dtype: int64\n"
     ]
    }
   ],
   "source": [
    "#check null value\n",
    "print(df.isnull().sum())"
   ]
  },
  {
   "cell_type": "markdown",
   "metadata": {},
   "source": [
    "Many features have close to 100% missing values (anything 175k+). It's likely safe to remove all of these features as they will provide little predictive power once we begin to build our machine learning model. In fact, it looks simpler to select the features we will keep rather than eliminate them one by one. \n",
    "\n",
    "This feature selection will be arbitrary at first, but later we will tweak this in the model improvement step of the analysis. "
   ]
  },
  {
   "cell_type": "markdown",
   "metadata": {},
   "source": [
    "##### Make Copy of Data #####"
   ]
  },
  {
   "cell_type": "code",
   "execution_count": 59,
   "metadata": {
    "collapsed": true
   },
   "outputs": [],
   "source": [
    "df_copy = df.copy()"
   ]
  },
  {
   "cell_type": "markdown",
   "metadata": {},
   "source": [
    "##### Feature Selection #####\n",
    "Criteria:\n",
    "* Missing values\n",
    "* Intuition"
   ]
  },
  {
   "cell_type": "code",
   "execution_count": 60,
   "metadata": {
    "collapsed": true
   },
   "outputs": [],
   "source": [
    "features = ['iyear', 'attacktype1', 'targtype1', 'targsubtype1', 'weaptype1', 'latitude',\n",
    "             'longitude', 'natlty1', 'property', 'INT_ANY', 'gname']"
   ]
  },
  {
   "cell_type": "code",
   "execution_count": 61,
   "metadata": {
    "collapsed": true
   },
   "outputs": [],
   "source": [
    "df_copy = df_copy[features]"
   ]
  },
  {
   "cell_type": "code",
   "execution_count": 62,
   "metadata": {},
   "outputs": [
    {
     "name": "stdout",
     "output_type": "stream",
     "text": [
      "iyear               0\n",
      "attacktype1         0\n",
      "targtype1           0\n",
      "targsubtype1    10373\n",
      "weaptype1           0\n",
      "latitude         4556\n",
      "longitude        4557\n",
      "natlty1          1559\n",
      "property            0\n",
      "INT_ANY             0\n",
      "gname               0\n",
      "dtype: int64\n"
     ]
    }
   ],
   "source": [
    "print(df_copy.isnull().sum())"
   ]
  },
  {
   "cell_type": "markdown",
   "metadata": {},
   "source": [
    "Let's remove the remaining NULL values. "
   ]
  },
  {
   "cell_type": "code",
   "execution_count": 63,
   "metadata": {
    "collapsed": true
   },
   "outputs": [],
   "source": [
    "# Going to drop NAs \n",
    "df_copy = df_copy.dropna(how = \"any\", axis = \"rows\")"
   ]
  },
  {
   "cell_type": "markdown",
   "metadata": {},
   "source": [
    "Sanity check."
   ]
  },
  {
   "cell_type": "code",
   "execution_count": 64,
   "metadata": {},
   "outputs": [
    {
     "data": {
      "text/plain": [
       "(166503, 11)"
      ]
     },
     "execution_count": 64,
     "metadata": {},
     "output_type": "execute_result"
    }
   ],
   "source": [
    "df_copy.shape"
   ]
  },
  {
   "cell_type": "markdown",
   "metadata": {},
   "source": [
    "We've now eliminated many of our features, going from 136 to 11, and in so doing we've gone from ~180k samples to ~166k samples. \n",
    "\n",
    "However we have one more problem. There are many samples in our data for which the ```gname``` attribute is ```Unknown```. \n",
    "\n",
    "As this is a supervised learning problem and our task is to use labeled data to predict the ```gname``` attributes, data with ```Unknown``` ```gname``` doesn't help our model learn. We will remove these samples for now.\n",
    "\n",
    "##### Edit: These ```Unknown``` samples  could be run through our trained model at the end to provide insight into which group may have perpetrated the attack. #####"
   ]
  },
  {
   "cell_type": "code",
   "execution_count": 65,
   "metadata": {},
   "outputs": [
    {
     "name": "stdout",
     "output_type": "stream",
     "text": [
      "(91350, 11) (75153, 11)\n"
     ]
    }
   ],
   "source": [
    "known = df_copy[df_copy.gname != 'Unknown']\n",
    "unknown = df_copy[df_copy.gname == 'Unknown']\n",
    "print(known.shape, unknown.shape)"
   ]
  },
  {
   "cell_type": "code",
   "execution_count": 69,
   "metadata": {
    "scrolled": true
   },
   "outputs": [
    {
     "data": {
      "text/plain": [
       "array([[<matplotlib.axes._subplots.AxesSubplot object at 0x1136241d0>,\n",
       "        <matplotlib.axes._subplots.AxesSubplot object at 0x134ac6748>,\n",
       "        <matplotlib.axes._subplots.AxesSubplot object at 0x134aed0f0>],\n",
       "       [<matplotlib.axes._subplots.AxesSubplot object at 0x134b11a58>,\n",
       "        <matplotlib.axes._subplots.AxesSubplot object at 0x134b3f400>,\n",
       "        <matplotlib.axes._subplots.AxesSubplot object at 0x134d2ad68>],\n",
       "       [<matplotlib.axes._subplots.AxesSubplot object at 0x134d57710>,\n",
       "        <matplotlib.axes._subplots.AxesSubplot object at 0x134d880f0>,\n",
       "        <matplotlib.axes._subplots.AxesSubplot object at 0x134d88128>],\n",
       "       [<matplotlib.axes._subplots.AxesSubplot object at 0x134dd93c8>,\n",
       "        <matplotlib.axes._subplots.AxesSubplot object at 0x134dfdd30>,\n",
       "        <matplotlib.axes._subplots.AxesSubplot object at 0x134e2c6d8>]],\n",
       "      dtype=object)"
      ]
     },
     "execution_count": 69,
     "metadata": {},
     "output_type": "execute_result"
    },
    {
     "data": {
      "image/png": "[encoded data removed]",
      "text/plain": [
       "<Figure size 1440x1440 with 12 Axes>"
      ]
     },
     "metadata": {},
     "output_type": "display_data"
    }
   ],
   "source": [
    "known.hist(figsize=(20,20))"
   ]
  },
  {
   "cell_type": "markdown",
   "metadata": {},
   "source": [
    "The ```longitude``` feature space looks weird. Compare the two graphs below. It appears outliers are impacting the distribution. Let's examine the quartiles and see if we can cut off outliers to make the distribution appear more reasonable."
   ]
  },
  {
   "cell_type": "code",
   "execution_count": 70,
   "metadata": {},
   "outputs": [
    {
     "name": "stderr",
     "output_type": "stream",
     "text": [
      "/usr/local/lib/python3.7/site-packages/scipy/stats/stats.py:1713: FutureWarning: Using a non-tuple sequence for multidimensional indexing is deprecated; use `arr[tuple(seq)]` instead of `arr[seq]`. In the future this will be interpreted as an array index, `arr[np.array(seq)]`, which will result either in an error or a different result.\n",
      "  return np.add.reduce(sorted[indexer] * weights, axis=axis) / sumval\n"
     ]
    },
    {
     "data": {
      "text/plain": [
       "<matplotlib.axes._subplots.AxesSubplot at 0x134724128>"
      ]
     },
     "execution_count": 70,
     "metadata": {},
     "output_type": "execute_result"
    },
    {
     "data": {
      "image/png": "[encoded data removed]",
      "text/plain": [
       "<Figure size 432x288 with 1 Axes>"
      ]
     },
     "metadata": {},
     "output_type": "display_data"
    }
   ],
   "source": [
    "sns.distplot(known['latitude'])"
   ]
  },
  {
   "cell_type": "code",
   "execution_count": 71,
   "metadata": {},
   "outputs": [
    {
     "name": "stderr",
     "output_type": "stream",
     "text": [
      "/usr/local/lib/python3.7/site-packages/scipy/stats/stats.py:1713: FutureWarning: Using a non-tuple sequence for multidimensional indexing is deprecated; use `arr[tuple(seq)]` instead of `arr[seq]`. In the future this will be interpreted as an array index, `arr[np.array(seq)]`, which will result either in an error or a different result.\n",
      "  return np.add.reduce(sorted[indexer] * weights, axis=axis) / sumval\n"
     ]
    },
    {
     "data": {
      "text/plain": [
       "<matplotlib.axes._subplots.AxesSubplot at 0x10d0663c8>"
      ]
     },
     "execution_count": 71,
     "metadata": {},
     "output_type": "execute_result"
    },
    {
     "data": {
      "image/png": "[encoded data removed]",
      "text/plain": [
       "<Figure size 432x288 with 1 Axes>"
      ]
     },
     "metadata": {},
     "output_type": "display_data"
    }
   ],
   "source": [
    "sns.distplot(known['longitude'])"
   ]
  },
  {
   "cell_type": "code",
   "execution_count": 72,
   "metadata": {},
   "outputs": [
    {
     "data": {
      "text/plain": [
       "0.01    -96.712954\n",
       "0.99    125.566599\n",
       "Name: longitude, dtype: float64"
      ]
     },
     "execution_count": 72,
     "metadata": {},
     "output_type": "execute_result"
    }
   ],
   "source": [
    "# 'longitude' looks weird\n",
    "known['longitude'].quantile([0.01, 0.99])"
   ]
  },
  {
   "cell_type": "markdown",
   "metadata": {},
   "source": [
    "Remove outlier longitude values"
   ]
  },
  {
   "cell_type": "code",
   "execution_count": 73,
   "metadata": {
    "collapsed": true
   },
   "outputs": [],
   "source": [
    "known = known[(known['longitude'] > -96.712954) & (known['longitude'] < 125.566599)]"
   ]
  },
  {
   "cell_type": "code",
   "execution_count": 74,
   "metadata": {},
   "outputs": [
    {
     "name": "stderr",
     "output_type": "stream",
     "text": [
      "/usr/local/lib/python3.7/site-packages/scipy/stats/stats.py:1713: FutureWarning: Using a non-tuple sequence for multidimensional indexing is deprecated; use `arr[tuple(seq)]` instead of `arr[seq]`. In the future this will be interpreted as an array index, `arr[np.array(seq)]`, which will result either in an error or a different result.\n",
      "  return np.add.reduce(sorted[indexer] * weights, axis=axis) / sumval\n"
     ]
    },
    {
     "data": {
      "text/plain": [
       "<matplotlib.axes._subplots.AxesSubplot at 0x10d2fe588>"
      ]
     },
     "execution_count": 74,
     "metadata": {},
     "output_type": "execute_result"
    },
    {
     "data": {
      "image/png": "[encoded data removed]",
      "text/plain": [
       "<Figure size 432x288 with 1 Axes>"
      ]
     },
     "metadata": {},
     "output_type": "display_data"
    }
   ],
   "source": [
    "sns.distplot(known['longitude'])"
   ]
  },
  {
   "cell_type": "markdown",
   "metadata": {},
   "source": [
    "Looks better!"
   ]
  },
  {
   "cell_type": "markdown",
   "metadata": {},
   "source": [
    "Let's also remove ```-9``` missing values. "
   ]
  },
  {
   "cell_type": "code",
   "execution_count": 75,
   "metadata": {
    "collapsed": true
   },
   "outputs": [],
   "source": [
    "known = known[known['property'] != -9]"
   ]
  },
  {
   "cell_type": "code",
   "execution_count": 76,
   "metadata": {
    "collapsed": true
   },
   "outputs": [],
   "source": [
    "known = known[known['INT_ANY'] != -9]"
   ]
  },
  {
   "cell_type": "code",
   "execution_count": 77,
   "metadata": {},
   "outputs": [
    {
     "data": {
      "text/plain": [
       "(73036, 11)"
      ]
     },
     "execution_count": 77,
     "metadata": {},
     "output_type": "execute_result"
    }
   ],
   "source": [
    "known.shape"
   ]
  },
  {
   "cell_type": "code",
   "execution_count": 78,
   "metadata": {},
   "outputs": [
    {
     "data": {
      "text/plain": [
       "array([[<matplotlib.axes._subplots.AxesSubplot object at 0x10d757668>,\n",
       "        <matplotlib.axes._subplots.AxesSubplot object at 0x1146dd1d0>,\n",
       "        <matplotlib.axes._subplots.AxesSubplot object at 0x130d7bb00>],\n",
       "       [<matplotlib.axes._subplots.AxesSubplot object at 0x130dab4a8>,\n",
       "        <matplotlib.axes._subplots.AxesSubplot object at 0x130dd0e10>,\n",
       "        <matplotlib.axes._subplots.AxesSubplot object at 0x130dfe7b8>],\n",
       "       [<matplotlib.axes._subplots.AxesSubplot object at 0x130e2e160>,\n",
       "        <matplotlib.axes._subplots.AxesSubplot object at 0x130e52b00>,\n",
       "        <matplotlib.axes._subplots.AxesSubplot object at 0x130e52b38>],\n",
       "       [<matplotlib.axes._subplots.AxesSubplot object at 0x131eb2dd8>,\n",
       "        <matplotlib.axes._subplots.AxesSubplot object at 0x131ede780>,\n",
       "        <matplotlib.axes._subplots.AxesSubplot object at 0x131f0e128>]],\n",
       "      dtype=object)"
      ]
     },
     "execution_count": 78,
     "metadata": {},
     "output_type": "execute_result"
    },
    {
     "data": {
      "image/png": "[encoded data removed]",
      "text/plain": [
       "<Figure size 1296x1296 with 12 Axes>"
      ]
     },
     "metadata": {},
     "output_type": "display_data"
    }
   ],
   "source": [
    "known.hist(figsize=(18,18))"
   ]
  },
  {
   "cell_type": "code",
   "execution_count": 79,
   "metadata": {},
   "outputs": [
    {
     "data": {
      "text/plain": [
       "<matplotlib.axes._subplots.AxesSubplot at 0x1345bc208>"
      ]
     },
     "execution_count": 79,
     "metadata": {},
     "output_type": "execute_result"
    },
    {
     "data": {
      "image/png": "[encoded data removed]",
      "text/plain": [
       "<Figure size 432x288 with 2 Axes>"
      ]
     },
     "metadata": {},
     "output_type": "display_data"
    }
   ],
   "source": [
    "corr = known.corr()\n",
    " \n",
    "# Heatmap\n",
    "sns.heatmap(corr)"
   ]
  },
  {
   "cell_type": "markdown",
   "metadata": {},
   "source": [
    "## Encode ```gname``` as numeric ##"
   ]
  },
  {
   "cell_type": "markdown",
   "metadata": {},
   "source": [
    "Currently our ```gname``` feature is of data type string. Let's encode this to numeric values to improve the performance of our models during training."
   ]
  },
  {
   "cell_type": "code",
   "execution_count": 80,
   "metadata": {
    "collapsed": true
   },
   "outputs": [],
   "source": [
    "from sklearn.preprocessing import LabelEncoder\n",
    "le = LabelEncoder()\n",
    "le.fit(known['gname'])\n",
    "known['gname'] = le.transform(known['gname'])"
   ]
  },
  {
   "cell_type": "markdown",
   "metadata": {},
   "source": [
    "## Check for ```gname``` values that occur very few times ##"
   ]
  },
  {
   "cell_type": "markdown",
   "metadata": {},
   "source": [
    "One last concern — given how many classes our target data has (3k+) and given the size of our dataset, we should check to see how many of these labels only have very few samples in the data. Such samples will be difficult for our model to learn from, and in some cases will even cause models we build with to throw errors. "
   ]
  },
  {
   "cell_type": "code",
   "execution_count": 88,
   "metadata": {},
   "outputs": [
    {
     "data": {
      "text/plain": [
       "2508    5991\n",
       "2354    4140\n",
       "1212    4086\n",
       "882     2931\n",
       "1165    2538\n",
       "152     2335\n",
       "2174    2068\n",
       "563     1968\n",
       "1422    1908\n",
       "493     1838\n",
       "1798    1770\n",
       "705     1504\n",
       "1744    1347\n",
       "1472    1332\n",
       "2531    1149\n",
       "1898    1047\n",
       "144      791\n",
       "1550     787\n",
       "1806     668\n",
       "2363     653\n",
       "1092     650\n",
       "74       559\n",
       "2625     533\n",
       "748      515\n",
       "1505     502\n",
       "141      439\n",
       "44       434\n",
       "1956     414\n",
       "1889     401\n",
       "1776     384\n",
       "        ... \n",
       "1571       1\n",
       "1315       1\n",
       "2659       1\n",
       "1187       1\n",
       "738        1\n",
       "994        1\n",
       "1122       1\n",
       "1314       1\n",
       "1378       1\n",
       "1442       1\n",
       "1506       1\n",
       "1570       1\n",
       "1634       1\n",
       "1698       1\n",
       "1762       1\n",
       "1890       1\n",
       "1954       1\n",
       "99         1\n",
       "2210       1\n",
       "227        1\n",
       "2338       1\n",
       "291        1\n",
       "2466       1\n",
       "483        1\n",
       "2594       1\n",
       "611        1\n",
       "675        1\n",
       "2786       1\n",
       "867        1\n",
       "1567       1\n",
       "Name: gname, Length: 2831, dtype: int64"
      ]
     },
     "execution_count": 88,
     "metadata": {},
     "output_type": "execute_result"
    }
   ],
   "source": [
    "known.gname.value_counts()"
   ]
  },
  {
   "cell_type": "markdown",
   "metadata": {},
   "source": [
    "We can clearly see there are many ```gname``` values that occur only once in our dataset. "
   ]
  },
  {
   "cell_type": "code",
   "execution_count": 89,
   "metadata": {},
   "outputs": [
    {
     "name": "stderr",
     "output_type": "stream",
     "text": [
      "/usr/local/lib/python3.7/site-packages/scipy/stats/stats.py:1713: FutureWarning: Using a non-tuple sequence for multidimensional indexing is deprecated; use `arr[tuple(seq)]` instead of `arr[seq]`. In the future this will be interpreted as an array index, `arr[np.array(seq)]`, which will result either in an error or a different result.\n",
      "  return np.add.reduce(sorted[indexer] * weights, axis=axis) / sumval\n"
     ]
    },
    {
     "data": {
      "image/png": "[encoded data removed]",
      "text/plain": [
       "<Figure size 432x288 with 1 Axes>"
      ]
     },
     "metadata": {},
     "output_type": "display_data"
    }
   ],
   "source": [
    "sns.distplot(known['gname'].value_counts());"
   ]
  },
  {
   "cell_type": "code",
   "execution_count": 96,
   "metadata": {},
   "outputs": [
    {
     "data": {
      "text/plain": [
       "0.75      5.0\n",
       "0.99    395.9\n",
       "Name: gname, dtype: float64"
      ]
     },
     "execution_count": 96,
     "metadata": {},
     "output_type": "execute_result"
    }
   ],
   "source": [
    "known.gname.value_counts().quantile([0.75, 0.99])"
   ]
  },
  {
   "cell_type": "code",
   "execution_count": 97,
   "metadata": {},
   "outputs": [
    {
     "data": {
      "text/plain": [
       "(73036, 12)"
      ]
     },
     "execution_count": 97,
     "metadata": {},
     "output_type": "execute_result"
    }
   ],
   "source": [
    "known.shape"
   ]
  },
  {
   "cell_type": "markdown",
   "metadata": {},
   "source": [
    "##### Eliminate samples with a ```gname``` value that occurs less than 10 times in the data #####"
   ]
  },
  {
   "cell_type": "code",
   "execution_count": 112,
   "metadata": {},
   "outputs": [
    {
     "name": "stdout",
     "output_type": "stream",
     "text": [
      "Number of gname categories before filter: 2831\n",
      "Number of gname categories after filter: 424\n"
     ]
    }
   ],
   "source": [
    "print(\"Number of gname categories before filter:\", len(known['gname'].unique()))\n",
    "known = known.groupby('gname').filter(lambda x: len(x) > 10)\n",
    "print(\"Number of gname categories after filter:\", len(known['gname'].unique()))"
   ]
  },
  {
   "cell_type": "code",
   "execution_count": 113,
   "metadata": {},
   "outputs": [
    {
     "data": {
      "text/plain": [
       "<matplotlib.axes._subplots.AxesSubplot at 0x10d84cef0>"
      ]
     },
     "execution_count": 113,
     "metadata": {},
     "output_type": "execute_result"
    },
    {
     "data": {
      "image/png": "[encoded data removed]",
      "text/plain": [
       "<Figure size 432x288 with 1 Axes>"
      ]
     },
     "metadata": {},
     "output_type": "display_data"
    }
   ],
   "source": [
    "sns.distplot(known['gname'])"
   ]
  },
  {
   "cell_type": "markdown",
   "metadata": {},
   "source": [
    "### Data is cleaned! Save to csv ###"
   ]
  },
  {
   "cell_type": "code",
   "execution_count": 114,
   "metadata": {
    "collapsed": true
   },
   "outputs": [],
   "source": [
    "known.to_csv(\"cleaned.csv\")"
   ]
  },
  {
   "cell_type": "markdown",
   "metadata": {},
   "source": [
    "# Model Building #"
   ]
  },
  {
   "cell_type": "markdown",
   "metadata": {},
   "source": [
    "### Baseline Model ###"
   ]
  },
  {
   "cell_type": "markdown",
   "metadata": {},
   "source": [
    "To begin, we're going to build a baseline model to get a sense for what our accuracy is when trained on this data. Then we'll experiment with a few other classifiers before selecting our model for tuning. Our baseline model will be a simple RandomForestClassifier() from scikit-learn."
   ]
  },
  {
   "cell_type": "code",
   "execution_count": 115,
   "metadata": {
    "collapsed": true
   },
   "outputs": [],
   "source": [
    "from sklearn.model_selection import train_test_split, cross_val_score\n",
    "from sklearn.metrics import accuracy_score\n",
    "from sklearn.ensemble import RandomForestClassifier"
   ]
  },
  {
   "cell_type": "code",
   "execution_count": 116,
   "metadata": {
    "collapsed": true
   },
   "outputs": [],
   "source": [
    "known = pd.read_csv(\"cleaned.csv\")"
   ]
  },
  {
   "cell_type": "code",
   "execution_count": 117,
   "metadata": {},
   "outputs": [
    {
     "data": {
      "text/plain": [
       "(67669, 13)"
      ]
     },
     "execution_count": 117,
     "metadata": {},
     "output_type": "execute_result"
    }
   ],
   "source": [
    "known.shape"
   ]
  },
  {
   "cell_type": "code",
   "execution_count": 118,
   "metadata": {
    "collapsed": true
   },
   "outputs": [],
   "source": [
    "X = known.drop(columns='gname')\n",
    "y = known.gname"
   ]
  },
  {
   "cell_type": "markdown",
   "metadata": {},
   "source": [
    "### Split into train/test sets ###"
   ]
  },
  {
   "cell_type": "code",
   "execution_count": 119,
   "metadata": {
    "collapsed": true
   },
   "outputs": [],
   "source": [
    "# Split into train/validation sets\n",
    "seed = 42\n",
    "validation_size = 0.2\n",
    "train_X, test_X, train_y, test_y = train_test_split(X, y, test_size = validation_size, random_state = seed)"
   ]
  },
  {
   "cell_type": "code",
   "execution_count": 120,
   "metadata": {},
   "outputs": [
    {
     "name": "stdout",
     "output_type": "stream",
     "text": [
      "(54135, 12) (13534, 12)\n"
     ]
    }
   ],
   "source": [
    "print(train_X.shape, test_X.shape)"
   ]
  },
  {
   "cell_type": "markdown",
   "metadata": {},
   "source": [
    "### split again - training data into training/validation sets ###"
   ]
  },
  {
   "cell_type": "code",
   "execution_count": 121,
   "metadata": {
    "collapsed": true
   },
   "outputs": [],
   "source": [
    "X_train, X_val, y_train, y_val = train_test_split(train_X, train_y, test_size = validation_size, random_state = seed)"
   ]
  },
  {
   "cell_type": "code",
   "execution_count": 122,
   "metadata": {},
   "outputs": [
    {
     "name": "stdout",
     "output_type": "stream",
     "text": [
      "(43308, 12) (10827, 12) (43308,) (10827,)\n"
     ]
    }
   ],
   "source": [
    "print(X_train.shape, X_val.shape, y_train.shape, y_val.shape)"
   ]
  },
  {
   "cell_type": "code",
   "execution_count": 123,
   "metadata": {},
   "outputs": [
    {
     "data": {
      "text/plain": [
       "2508    3835\n",
       "2354    2645\n",
       "1212    2616\n",
       "882     1847\n",
       "1165    1634\n",
       "152     1464\n",
       "2174    1365\n",
       "1422    1247\n",
       "563     1235\n",
       "493     1192\n",
       "1798    1111\n",
       "705      968\n",
       "1472     890\n",
       "1744     846\n",
       "2531     716\n",
       "1898     659\n",
       "144      519\n",
       "1550     483\n",
       "2363     431\n",
       "1092     424\n",
       "1806     423\n",
       "74       365\n",
       "2625     364\n",
       "748      342\n",
       "1505     332\n",
       "44       299\n",
       "1956     281\n",
       "141      266\n",
       "1889     256\n",
       "1776     241\n",
       "        ... \n",
       "1679       7\n",
       "85         7\n",
       "2751       7\n",
       "1270       7\n",
       "1237       7\n",
       "92         7\n",
       "1704       7\n",
       "1973       7\n",
       "1128       7\n",
       "15         7\n",
       "2087       7\n",
       "804        7\n",
       "1415       7\n",
       "2526       6\n",
       "768        6\n",
       "2770       6\n",
       "2423       6\n",
       "1722       6\n",
       "2816       6\n",
       "365        6\n",
       "231        6\n",
       "750        6\n",
       "2360       6\n",
       "865        6\n",
       "2288       5\n",
       "2257       5\n",
       "2218       5\n",
       "1537       5\n",
       "1259       5\n",
       "645        5\n",
       "Name: gname, Length: 424, dtype: int64"
      ]
     },
     "execution_count": 123,
     "metadata": {},
     "output_type": "execute_result"
    }
   ],
   "source": [
    "y_train.value_counts()"
   ]
  },
  {
   "cell_type": "markdown",
   "metadata": {},
   "source": [
    "The fewest samples our training data has per ```gname``` is now 5, which is not excellent but better."
   ]
  },
  {
   "cell_type": "markdown",
   "metadata": {},
   "source": [
    "### Build and Fit a RandomForestClassifier() ###"
   ]
  },
  {
   "cell_type": "code",
   "execution_count": 124,
   "metadata": {},
   "outputs": [
    {
     "name": "stderr",
     "output_type": "stream",
     "text": [
      "/usr/local/lib/python3.7/site-packages/sklearn/ensemble/forest.py:248: FutureWarning: The default value of n_estimators will change from 10 in version 0.20 to 100 in 0.22.\n",
      "  \"10 in version 0.20 to 100 in 0.22.\", FutureWarning)\n"
     ]
    },
    {
     "data": {
      "text/plain": [
       "RandomForestClassifier(bootstrap=True, class_weight=None, criterion='gini',\n",
       "            max_depth=None, max_features='auto', max_leaf_nodes=None,\n",
       "            min_impurity_decrease=0.0, min_impurity_split=None,\n",
       "            min_samples_leaf=1, min_samples_split=2,\n",
       "            min_weight_fraction_leaf=0.0, n_estimators=10, n_jobs=None,\n",
       "            oob_score=False, random_state=42, verbose=0, warm_start=False)"
      ]
     },
     "execution_count": 124,
     "metadata": {},
     "output_type": "execute_result"
    }
   ],
   "source": [
    "# Linear Support Vector Classifier\n",
    "clf = RandomForestClassifier(random_state=42)\n",
    "clf.fit(X_train, y_train)"
   ]
  },
  {
   "cell_type": "markdown",
   "metadata": {},
   "source": [
    "#### Predict ```gname``` values from the validation dataset ####"
   ]
  },
  {
   "cell_type": "code",
   "execution_count": 125,
   "metadata": {
    "collapsed": true
   },
   "outputs": [],
   "source": [
    "y_pred = clf.predict(X_val);"
   ]
  },
  {
   "cell_type": "markdown",
   "metadata": {},
   "source": [
    "#### Calculate score ####\n",
    "\n",
    "#### Performance Metric: Accuracy Score ####\n",
    "\n",
    "For this problem, we could use several metrics (F1_score, accuracy_Score, etc.) but for now we will use a simple accuracy score to measure the predictive power of our model. ```accuracy_score``` simply returns the percentage of samples correctly predicted by the model over the total number of samples.\n",
    "\n",
    "Documentation: https://scikit-learn.org/stable/modules/generated/sklearn.metrics.accuracy_score.html"
   ]
  },
  {
   "cell_type": "code",
   "execution_count": 126,
   "metadata": {
    "collapsed": true
   },
   "outputs": [],
   "source": [
    "score = accuracy_score(y_val, y_pred)"
   ]
  },
  {
   "cell_type": "code",
   "execution_count": 127,
   "metadata": {},
   "outputs": [
    {
     "data": {
      "text/plain": [
       "0.8627505310797081"
      ]
     },
     "execution_count": 127,
     "metadata": {},
     "output_type": "execute_result"
    }
   ],
   "source": [
    "score"
   ]
  },
  {
   "cell_type": "markdown",
   "metadata": {},
   "source": [
    "Already we're getting an accuracy of ~86%. That's not bad at all. Now we will explore other classifiers to see how they perform compared to this baseline model."
   ]
  },
  {
   "cell_type": "markdown",
   "metadata": {},
   "source": [
    "## Baseline Results ##\n",
    "\n",
    "Our model correctly predicts the ```gname``` attribute in the test data ~80% of the time.We will now explore possible ways to improve upon this result.\n",
    "\n",
    "Areas to explore:\n",
    "\n",
    "* Model selection\n",
    "* Hyperparameter Tuning\n",
    "* Feature Importance / SHAP Values"
   ]
  },
  {
   "cell_type": "markdown",
   "metadata": {},
   "source": [
    "## Model Selection ##"
   ]
  },
  {
   "cell_type": "markdown",
   "metadata": {},
   "source": [
    "For multiclass classification we have many models to choose from. A thorough but by no means comprehensive list can be found here: https://scikit-learn.org/stable/modules/multiclass.html\n",
    "\n",
    "To begin we will try a RidgeClassifier, a Gaussian Naive Bayes classifier, and a K nearest neighbors classifier.\n",
    "\n",
    "#### Ridge #### \n",
    "We will use Ridge with built in cross-validation. Documentation here: https://scikit-learn.org/stable/modules/generated/sklearn.linear_model.RidgeClassifierCV.html#sklearn.linear_model.RidgeClassifierCV\n",
    "\n",
    "#### Naive Bayes ####\n",
    "\n",
    "Naive Bayes is a kind of classifier which uses the Bayes Theorem (conditional probability). It predicts membership probabilities for each class such as the probability that given record or data point belongs to a particular class.  The class with the highest probability is considered as the most likely class.\n",
    "\n",
    "#### K Nearest Neighbors ####\n",
    "\n",
    "K Nearest Neighbors is one of the simplest machine learning algorithms, whereby each object is classified by a majority vote of its neighbors. More specifically, the model is initialized with k classes (equal to the k classes the model is trying to predict). Each sample is assigned to it's `nearest neighbor`, based on the initialization, and then the k centers are relocated to minimize the distance between the neighbors assigned to it. Then the process is repeated, and iteratively the k centers come to categorize the data in a way that minimizes the distance from each sample to it's k center. KNN is sensitive to initialization conditions, but can be an effective classification algorithm.t"
   ]
  },
  {
   "cell_type": "code",
   "execution_count": 128,
   "metadata": {
    "collapsed": true
   },
   "outputs": [],
   "source": [
    "from sklearn.linear_model import RidgeClassifierCV\n",
    "from sklearn.naive_bayes import GaussianNB\n",
    "from sklearn.neighbors import KNeighborsClassifier"
   ]
  },
  {
   "cell_type": "code",
   "execution_count": 129,
   "metadata": {
    "collapsed": true
   },
   "outputs": [],
   "source": [
    "# Initialize models\n",
    "clf_A = RidgeClassifierCV()\n",
    "clf_B = GaussianNB()\n",
    "clf_C = KNeighborsClassifier()"
   ]
  },
  {
   "cell_type": "code",
   "execution_count": 130,
   "metadata": {
    "collapsed": true
   },
   "outputs": [],
   "source": [
    "def train_predict(learner, sample_size, X_train, y_train, X_test, y_test): \n",
    "    '''\n",
    "    inputs:\n",
    "       - learner: the learning algorithm to be trained and predicted on\n",
    "       - sample_size: the size of samples (number) to be drawn from training set\n",
    "       - X_train: features training set\n",
    "       - y_train: income training set\n",
    "       - X_test: features testing set\n",
    "       - y_test: income testing set\n",
    "    '''\n",
    "    \n",
    "    results = {}\n",
    "    \n",
    "    # TODO: Fit the learner to the training data using slicing with 'sample_size' using .fit(training_features[:], training_labels[:])\n",
    "    start = time() # Get start time\n",
    "    learner.fit(X_train[:sample_size], y_train[:sample_size])\n",
    "    end = time() # Get end time\n",
    "    \n",
    "    # TODO: Calculate the training time\n",
    "    results['train_time'] = end - start\n",
    "        \n",
    "    start = time() # Get start time\n",
    "    predictions_test = learner.predict(X_test)\n",
    "    predictions_train = learner.predict(X_train)\n",
    "    end = time() # Get end time\n",
    "    \n",
    "    # TODO: Calculate the total prediction time\n",
    "    results['pred_time'] = start - end\n",
    "            \n",
    "    results['acc_train'] = accuracy_score(y_train, predictions_train)\n",
    "        \n",
    "    # TODO: Compute accuracy on test set using accuracy_score()\n",
    "    results['acc_test'] = accuracy_score(y_test, predictions_test)\n",
    "       \n",
    "    # Success\n",
    "    print(\"{} trained on {} samples.\".format(learner.__class__.__name__, sample_size))\n",
    "        \n",
    "    # Return the results\n",
    "    return results"
   ]
  },
  {
   "cell_type": "code",
   "execution_count": 131,
   "metadata": {},
   "outputs": [
    {
     "name": "stdout",
     "output_type": "stream",
     "text": [
      "RidgeClassifierCV trained on 4330 samples.\n",
      "RidgeClassifierCV trained on 21654 samples.\n",
      "RidgeClassifierCV trained on 43308 samples.\n",
      "GaussianNB trained on 4330 samples.\n",
      "GaussianNB trained on 21654 samples.\n",
      "GaussianNB trained on 43308 samples.\n",
      "KNeighborsClassifier trained on 4330 samples.\n",
      "KNeighborsClassifier trained on 21654 samples.\n",
      "KNeighborsClassifier trained on 43308 samples.\n"
     ]
    }
   ],
   "source": [
    "samples_100 = len(y_train)\n",
    "samples_50 = int(len(y_train) * 0.5) # 'int' not 'float'\n",
    "samples_10 = int(len(y_train) * 0.1) # 'int' not 'float'\n",
    "\n",
    "# Collect results on the learners\n",
    "results = {}\n",
    "for clf in [clf_A, clf_B, clf_C]:\n",
    "    clf_name = clf.__class__.__name__\n",
    "    results[clf_name] = {}\n",
    "    for i, samples in enumerate([samples_10, samples_50, samples_100]):\n",
    "        results[clf_name][i] = \\\n",
    "        train_predict(clf, samples, X_train, y_train, X_val, y_val)"
   ]
  },
  {
   "cell_type": "code",
   "execution_count": 132,
   "metadata": {},
   "outputs": [
    {
     "data": {
      "image/png": "[encoded data removed]",
      "text/plain": [
       "<Figure size 1152x576 with 4 Axes>"
      ]
     },
     "metadata": {},
     "output_type": "display_data"
    }
   ],
   "source": [
    "fig, ax = plt.subplots(2, 2, figsize = (16,8))\n",
    "\n",
    "# Constants\n",
    "bar_width = 0.3\n",
    "colors = ['#A00000','#00A0A0','#00A000']\n",
    "    \n",
    "# Super loop to plot four panels of data\n",
    "for k, learner in enumerate(results.keys()):\n",
    "    for j, metric in enumerate(['train_time', 'acc_train', 'pred_time', 'acc_test']):\n",
    "        for i in np.arange(3):\n",
    "                \n",
    "            # Creative plot code\n",
    "            ax[j//2, j%2].bar(i+k*bar_width, results[learner][i][metric], width = bar_width, color = colors[k])\n",
    "            ax[j//2, j%2].set_xticks([0.45, 1.45, 2.45])\n",
    "            ax[j//2, j%2].set_xticklabels([\"10%\", \"50%\", \"100%\"])\n",
    "            ax[j//2, j%2].set_xlabel(\"Sample Size\")\n",
    "            ax[j//2, j%2].set_xlim((-0.1, 3.0))\n",
    "    \n",
    "# Add unique y-labels\n",
    "ax[0, 0].set_ylabel(\"Time (in seconds)\")\n",
    "ax[0, 1].set_ylabel(\"Acc\")\n",
    "ax[1, 0].set_ylabel(\"Time (in seconds)\")\n",
    "ax[1, 1].set_ylabel(\"Acc\")\n",
    "    \n",
    "# Add titles\n",
    "ax[0, 0].set_title(\"Model Training Time\")\n",
    "ax[0, 1].set_title(\"Acc on Training Subset\")\n",
    "ax[1, 0].set_title(\"Model Predicting Time\")\n",
    "ax[1, 1].set_title(\"Acc on Testing Set\")\n",
    "    \n",
    "# Set y-limits for score panels\n",
    "ax[0, 0].set_ylim((0, 5))\n",
    "ax[0, 1].set_ylim((0, 1))\n",
    "ax[1, 0].set_ylim((0, 5))\n",
    "ax[1, 1].set_ylim((0, 1))\n",
    "\n",
    "# Create patches for the legend\n",
    "import matplotlib.patches as mpatches\n",
    "patches = []\n",
    "for i, learner in enumerate(results.keys()):\n",
    "    patches.append(mpatches.Patch(color = colors[i], label = learner))\n",
    "plt.legend(handles = patches, ncol = 3, fontsize = 'x-large', loc = \"upper left\")\n",
    "    \n",
    "# Aesthetics\n",
    "plt.suptitle(\"Performance Metrics for Three Supervised Learning Models\", fontsize = 16, y = 1.10)\n",
    "plt.tight_layout()\n",
    "plt.show()    "
   ]
  },
  {
   "cell_type": "markdown",
   "metadata": {},
   "source": [
    "All three models improved test_set prediction accuracy as they were fed more data, but none outperformed our baseline RandomForest model. We will advance by tuning the Random Forest model. "
   ]
  },
  {
   "cell_type": "markdown",
   "metadata": {},
   "source": [
    "## Tuning Hyperparameters with Grid Search ##"
   ]
  },
  {
   "cell_type": "code",
   "execution_count": 133,
   "metadata": {
    "collapsed": true
   },
   "outputs": [],
   "source": [
    "from sklearn.model_selection import GridSearchCV\n",
    "from sklearn.metrics import make_scorer"
   ]
  },
  {
   "cell_type": "code",
   "execution_count": 138,
   "metadata": {
    "collapsed": true
   },
   "outputs": [],
   "source": [
    "# Initialize regressor\n",
    "clf = RandomForestClassifier(random_state=42)\n",
    "\n",
    "# Parameter list to tune\n",
    "parameters = {'n_estimators': [5, 10, 15, 20]}\n",
    "\n",
    "scorer = make_scorer(accuracy_score)"
   ]
  },
  {
   "cell_type": "code",
   "execution_count": 139,
   "metadata": {
    "collapsed": true
   },
   "outputs": [],
   "source": [
    "# Perform grid_search on the classifier\n",
    "grid_obj = GridSearchCV(estimator = clf, param_grid = parameters, scoring = scorer)"
   ]
  },
  {
   "cell_type": "code",
   "execution_count": 140,
   "metadata": {
    "scrolled": true
   },
   "outputs": [
    {
     "name": "stderr",
     "output_type": "stream",
     "text": [
      "/usr/local/lib/python3.7/site-packages/sklearn/model_selection/_split.py:1943: FutureWarning: You should specify a value for 'cv' instead of relying on the default value. The default value will change from 3 to 5 in version 0.22.\n",
      "  warnings.warn(CV_WARNING, FutureWarning)\n"
     ]
    }
   ],
   "source": [
    "# Fit the grid search object to the training data\n",
    "grid_fit = grid_obj.fit(X_train, y_train)"
   ]
  },
  {
   "cell_type": "code",
   "execution_count": 141,
   "metadata": {},
   "outputs": [
    {
     "name": "stderr",
     "output_type": "stream",
     "text": [
      "/usr/local/lib/python3.7/site-packages/sklearn/ensemble/forest.py:248: FutureWarning: The default value of n_estimators will change from 10 in version 0.20 to 100 in 0.22.\n",
      "  \"10 in version 0.20 to 100 in 0.22.\", FutureWarning)\n"
     ]
    },
    {
     "name": "stdout",
     "output_type": "stream",
     "text": [
      "Unoptimized model\n",
      "------\n",
      "Accuracy on validation data: 0.8628\n",
      "\n",
      "Optimized Model\n",
      "------\n",
      "Accuracy on the validation data: 0.8696\n"
     ]
    }
   ],
   "source": [
    "# Get the estimator\n",
    "best_clf = grid_fit.best_estimator_\n",
    "\n",
    "# Make predictions\n",
    "predictions = (clf.fit(X_train, y_train)).predict(X_val)\n",
    "best_predictions = best_clf.predict(X_val)\n",
    "\n",
    "print(\"Unoptimized model\\n------\")\n",
    "print(\"Accuracy on validation data: {:.4f}\".format(accuracy_score(y_val, predictions)))\n",
    "print(\"\\nOptimized Model\\n------\")\n",
    "print(\"Accuracy on the validation data: {:.4f}\".format(accuracy_score(y_val, best_predictions)))"
   ]
  },
  {
   "cell_type": "markdown",
   "metadata": {},
   "source": [
    "Accuracy Improvement of about 1%. "
   ]
  },
  {
   "cell_type": "markdown",
   "metadata": {},
   "source": [
    "### Feature Scaling ###\n",
    "\n",
    "Just to add we do not need to conduct feature scaling when using a Random Forest, as Random Forests need only the absolute values to branch. Distance between values, which can dramatically affect other models, has no impact here. "
   ]
  },
  {
   "cell_type": "markdown",
   "metadata": {},
   "source": [
    "## Now to test our best model on the testing data set ##"
   ]
  },
  {
   "cell_type": "code",
   "execution_count": 142,
   "metadata": {},
   "outputs": [
    {
     "name": "stdout",
     "output_type": "stream",
     "text": [
      "(13534, 12) (13534,)\n"
     ]
    }
   ],
   "source": [
    "print(test_X.shape, test_y.shape)"
   ]
  },
  {
   "cell_type": "code",
   "execution_count": 143,
   "metadata": {
    "collapsed": true
   },
   "outputs": [],
   "source": [
    "testing_predictions = best_clf.predict(test_X)"
   ]
  },
  {
   "cell_type": "code",
   "execution_count": 144,
   "metadata": {},
   "outputs": [
    {
     "name": "stdout",
     "output_type": "stream",
     "text": [
      "\n",
      "Optimized Model on Testing Data\n",
      "------\n",
      "Accuracy on the testing data: 0.8684\n"
     ]
    }
   ],
   "source": [
    "print(\"\\nOptimized Model on Testing Data\\n------\")\n",
    "print(\"Accuracy on the testing data: {:.4f}\".format(accuracy_score(test_y, testing_predictions)))"
   ]
  },
  {
   "cell_type": "markdown",
   "metadata": {},
   "source": [
    "Our accuracy doesn't suffer on testing data. No disparity between the training/validation/testing sets, meaning our model abstracts well to new data. "
   ]
  },
  {
   "cell_type": "markdown",
   "metadata": {},
   "source": [
    "# Conclusion and Ideas For Further Analysis #"
   ]
  },
  {
   "cell_type": "markdown",
   "metadata": {
    "collapsed": true
   },
   "source": [
    "The Random Forest Classifier is able to predict the group that perpetrated a terror attack with ~86-87% accuracy on unseen data. A grid_search hyperparameter tuning adjusted the ```n_estimators``` parameter, and a thorough data exploration and cleaning dramatically improved our ability to build a model that might predict well. \n",
    "\n",
    "For further work on this project, I would:\n",
    "\n",
    "* Experiment with ensemble methods, such as LightGBM and XGBoost algorithms. Under *most* circumstances, these ensemble tree methods tend to perform slighly better than the more out-of-the-box algorithms such as Random Forests. *disclaimer: I trained an LGBMClassifier on this data and got very low accuracy (in the range of 10%). This is perhaps a result of needing to tune the hyperparameters more on the LGBM model than on the RandomForest - LGBM Classifiers often need very careful hyperparameter tuning to perform well*\n",
    "\n",
    "* Feature Scaling if the model dictates it. In this case as I used a RandomForest, RandomForests are insensitive to feature scaling and thus that step in the feature engineering stage of the analysis was unnecessary. But exploring other models this would have been necessary. ** Another disclaimer: I conducted a StandardScaler() feature with my LGBM Classifier and results were still poor **\n",
    "\n",
    "* Further exploration of the feature space, possibly using permutation importance or SHAP values to assess which features to include in the final model. "
   ]
  }
 ],
 "metadata": {
  "kernelspec": {
   "display_name": "Python 3",
   "language": "python",
   "name": "python3"
  },
  "language_info": {
   "codemirror_mode": {
    "name": "ipython",
    "version": 3
   },
   "file_extension": ".py",
   "mimetype": "text/x-python",
   "name": "python",
   "nbconvert_exporter": "python",
   "pygments_lexer": "ipython3",
   "version": "3.7.1"
  }
 },
 "nbformat": 4,
 "nbformat_minor": 2
}
